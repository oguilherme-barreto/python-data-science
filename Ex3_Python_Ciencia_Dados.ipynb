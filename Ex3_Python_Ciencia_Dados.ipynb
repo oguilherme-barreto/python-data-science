{
  "nbformat": 4,
  "nbformat_minor": 0,
  "metadata": {
    "colab": {
      "provenance": [],
      "authorship_tag": "ABX9TyOdBfWyqHNlUwPuzLc4RQaS"
    },
    "kernelspec": {
      "name": "python3",
      "display_name": "Python 3"
    },
    "language_info": {
      "name": "python"
    }
  },
  "cells": [
    {
      "cell_type": "markdown",
      "source": [
        "# Exercício 1\n",
        "Crie um código para imprimir a soma dos elementos de cada uma das listas contidas na seguinte lista:\n",
        "\n",
        "lista_de_listas = [[4,6,5,9], [1,0,7,2], [3,4,1,8]]"
      ],
      "metadata": {
        "id": "2qqG-PHIMfaM"
      }
    },
    {
      "cell_type": "code",
      "execution_count": null,
      "metadata": {
        "id": "MFcRqimrLwnK"
      },
      "outputs": [],
      "source": [
        "lista_de_listas = [[4,6,5,9], [1,0,7,2], [3,4,1,8]]\n",
        "\n",
        "soma_de_listas = [sum(lista) for lista in lista_de_listas]\n",
        "\n",
        "soma_de_listas"
      ]
    },
    {
      "cell_type": "markdown",
      "source": [
        "# Exercício 2\n",
        "Crie um código para gerar uma lista que armazena o terceiro elemento de cada tupla contida na seguinte lista de tuplas:\n",
        "\n",
        "lista_de_tuplas = [('Pedro', 1.74, 81), ('Júlia', 1.65, 67), ('Otávio', 1.81, 83)]"
      ],
      "metadata": {
        "id": "VhUjnRT9OHCw"
      }
    },
    {
      "cell_type": "code",
      "source": [
        "lista_de_tuplas = [('Pedro', 1.74, 81), ('Júlia', 1.65, 67), ('Otávio', 1.81, 83)]\n",
        "\n",
        "lista = [tupla[2] for tupla in lista_de_tuplas]\n",
        "\n",
        "lista"
      ],
      "metadata": {
        "id": "RMdb9Iufocmn"
      },
      "execution_count": null,
      "outputs": []
    },
    {
      "cell_type": "markdown",
      "source": [
        "# Exercício 3\n",
        "A partir da lista: lista = ['Pedro', 'Júlia', 'Otávio', 'Eduardo'], crie um código para gerar uma lista de tuplas em que cada tupla tenha o primeiro elemento como a posição do nome na lista original e o segundo elemento sendo o próprio nome."
      ],
      "metadata": {
        "id": "kmJgOZugptvm"
      }
    },
    {
      "cell_type": "code",
      "source": [
        "lista = ['Pedro', 'Júlia', 'Otávio', 'Eduardo']\n",
        "\n",
        "lista_tupla = [(i, lista[i]) for i in range(0, len(lista))]\n",
        "\n",
        "lista_tupla"
      ],
      "metadata": {
        "colab": {
          "base_uri": "https://localhost:8080/"
        },
        "id": "jh9a_74epvAP",
        "outputId": "560cf1f2-65e8-4f21-a67c-0249fe13c6aa"
      },
      "execution_count": null,
      "outputs": [
        {
          "output_type": "execute_result",
          "data": {
            "text/plain": [
              "[(0, 'Pedro'), (1, 'Júlia'), (2, 'Otávio'), (3, 'Eduardo')]"
            ]
          },
          "metadata": {},
          "execution_count": 18
        }
      ]
    },
    {
      "cell_type": "markdown",
      "source": [
        "# Exercício 4\n",
        "Crie uma lista usando o list comprehension que armazena somente o valor numérico de cada tupla caso o primeiro elemento seja 'Apartamento', a partir da seguinte lista de tuplas:\n",
        "\n",
        "aluguel = [('Apartamento', 1700), ('Apartamento', 1400), ('Casa', 2150), ('Apartamento', 1900), ('Casa', 1100)]"
      ],
      "metadata": {
        "id": "gYKuWdXv66a_"
      }
    },
    {
      "cell_type": "code",
      "source": [
        "aluguel = [('Apartamento', 1700), ('Apartamento', 1400), ('Casa', 2150), ('Apartamento', 1900), ('Casa', 1100)]\n",
        "\n",
        "lista = [aluguel[i][1] for i in range(0, len(aluguel)) if aluguel[i][0] == 'Apartamento']\n",
        "\n",
        "lista"
      ],
      "metadata": {
        "colab": {
          "base_uri": "https://localhost:8080/"
        },
        "id": "Ma4nduZ368lk",
        "outputId": "8f47ecca-6613-4506-8ac8-cdfad994f181"
      },
      "execution_count": null,
      "outputs": [
        {
          "output_type": "execute_result",
          "data": {
            "text/plain": [
              "[1700, 1400, 1900]"
            ]
          },
          "metadata": {},
          "execution_count": 20
        }
      ]
    },
    {
      "cell_type": "markdown",
      "source": [
        "# Exercício 5\n",
        "Crie um dicionário usando o dict comprehension em que as chaves estão na lista meses = ['Jan', 'Fev', 'Mar', 'Abr', 'Mai', 'Jun', 'Jul', 'Ago', 'Set', 'Out', 'Nov', 'Dez'] e os valores estão em despesa = [860, 490, 1010, 780, 900, 630, 590, 770, 620, 560, 840, 360]."
      ],
      "metadata": {
        "id": "io5I55Bv9jox"
      }
    },
    {
      "cell_type": "code",
      "source": [
        "meses = ['Jan', 'Fev', 'Mar', 'Abr', 'Mai', 'Jun', 'Jul', 'Ago', 'Set', 'Out', 'Nov', 'Dez']\n",
        "despesa = [860, 490, 1010, 780, 900, 630, 590, 770, 620, 560, 840, 360]\n",
        "\n",
        "despesas_mensais = {mes: valor for mes in meses for valor in despesa}\n",
        "despesas_mensais"
      ],
      "metadata": {
        "id": "U4Mns9cz9lGK"
      },
      "execution_count": null,
      "outputs": []
    },
    {
      "cell_type": "markdown",
      "source": [
        "# Exercício 6\n",
        "Uma loja possui um banco de dados com a informação de venda de cada representante e de cada ano e precisa filtrar somente os dados do ano 2022 com venda maior do que 6000. A loja forneceu uma amostra contendo apenas as colunas com os anos e os valores de venda para que você ajude a realizar a filtragem dos dados a partir de um código:\n",
        "\n",
        "vendas = [('2023', 4093), ('2021', 4320), ('2021', 5959), ('2022', 8883), ('2023', 9859), ('2022', 5141), ('2022', 7688), ('2022', 9544), ('2023', 4794), ('2021', 7178), ('2022', 3030), ('2021', 7471), ('2022', 4226), ('2022', 8190), ('2021', 9680), ('2022', 5616)]\n",
        "\n",
        "Crie uma lista usando list comprehension para filtrar os valores de 2022 e que sejam maiores que 6000."
      ],
      "metadata": {
        "id": "rhbMtdoO-2bn"
      }
    },
    {
      "cell_type": "code",
      "source": [
        "vendas = [('2023', 4093), ('2021', 4320), ('2021', 5959), ('2022', 8883), ('2023', 9859), ('2022', 5141), ('2022', 7688), ('2022', 9544), ('2023', 4794), ('2021', 7178), ('2022', 3030), ('2021', 7471), ('2022', 4226), ('2022', 8190), ('2021', 9680), ('2022', 5616)]\n",
        "\n",
        "\n",
        "lista = [(vendas[i][0], vendas[i][1]) for i in range(0, len(vendas)) if vendas[i][0] == '2022' and vendas[i][1] > 6000]\n",
        "\n",
        "lista"
      ],
      "metadata": {
        "colab": {
          "base_uri": "https://localhost:8080/"
        },
        "id": "5QFlW_Bj-6i1",
        "outputId": "46d212e6-a6db-44f5-8f00-0c510207daaf"
      },
      "execution_count": null,
      "outputs": [
        {
          "output_type": "execute_result",
          "data": {
            "text/plain": [
              "[('2022', 8883), ('2022', 7688), ('2022', 9544), ('2022', 8190)]"
            ]
          },
          "metadata": {},
          "execution_count": 27
        }
      ]
    },
    {
      "cell_type": "markdown",
      "source": [
        "# Exercício 7\n",
        "Uma clínica analisa dados de pacientes e armazena o valor numérico da glicose em um banco de dados e gostaria de rotular os dados da seguinte maneira:\n",
        "\n",
        "- Glicose igual ou inferior a 70: 'Hipoglicemia'\n",
        "- Glicose entre 70 a 99: 'Normal'\n",
        "- Glicose entre 100 e 125: 'Alterada'\n",
        "- Glicose superior a 125: 'Diabetes'\n",
        "\n",
        "A clínica disponibilizou parte dos valores e sua tarefa é criar uma lista de tuplas usando list comprehension contendo o rótulo e o valor da glicemia em cada tupla.\n",
        "\n",
        "glicemia = [129, 82, 60, 97, 101, 65, 62, 167, 87, 53, 58, 92, 66, 120, 109, 62, 86, 96, 103, 88, 155, 52, 89, 73]"
      ],
      "metadata": {
        "id": "uXCYmyONAQx-"
      }
    },
    {
      "cell_type": "code",
      "source": [
        "glicemia = [129, 82, 60, 97, 101, 65, 62, 167, 87, 53, 58, 92, 66, 120, 109, 62, 86, 96, 103, 88, 155, 52, 89, 73]\n",
        "\n",
        "\n",
        "rotulo = [(valor, 'Hipoglicemia' if valor < 70  else 'Normal' if 70 <= valor < 100 else 'Alterada' if 100 <= valor < 125 else 'Diabetes') for valor in glicemia]\n",
        "\n",
        "rotulo"
      ],
      "metadata": {
        "id": "lwev5vj6AT5K"
      },
      "execution_count": null,
      "outputs": []
    },
    {
      "cell_type": "markdown",
      "source": [
        "# Exercício 8\n",
        "Um e-commerce possui as informações de id de venda, quantidade vendida e preço do produto divididos nas seguintes listas:\n",
        "\n",
        "id = [0, 1, 2, 3, 4, 5, 6, 7, 8, 9]\n",
        "\n",
        "quantidade = [15, 12, 1, 15, 2, 11, 2, 12, 2, 4]\n",
        "\n",
        "preco = [93.0, 102.0, 18.0, 41.0, 122.0, 14.0, 71.0, 48.0, 14.0, 144.0]\n",
        "\n",
        "O e-commerce precisa estruturar esses dados em uma tabela contendo o valor total da venda, que é obtida multiplicando a quantidade pelo preço unitário. Além disso, a tabela precisa conter um cabeçalho indicando as colunas: 'id', 'quantidade', 'preco' e 'total'.\n",
        "\n",
        "Crie uma lista de tuplas em que cada tupla tenha id, quantidade, preço e valor total, na qual a primeira tupla é o cabeçalho da tabela."
      ],
      "metadata": {
        "id": "QCXKYEP8L-10"
      }
    },
    {
      "cell_type": "code",
      "source": [
        "id = [0, 1, 2, 3, 4, 5, 6, 7, 8, 9]\n",
        "quantidade = [15, 12, 1, 15, 2, 11, 2, 12, 2, 4]\n",
        "preco = [93.0, 102.0, 18.0, 41.0, 122.0, 14.0, 71.0, 48.0, 14.0, 144.0]\n",
        "\n",
        "lista = [(id[i], quantidade[i], preco[i], quantidade[i]*preco[i]) for i in range(0, len(id))]\n",
        "lista"
      ],
      "metadata": {
        "colab": {
          "base_uri": "https://localhost:8080/"
        },
        "id": "7C5OSgXxMKnU",
        "outputId": "bfe62026-ea44-41fa-d1a8-1f642d114e87"
      },
      "execution_count": null,
      "outputs": [
        {
          "output_type": "execute_result",
          "data": {
            "text/plain": [
              "[(0, 15, 93.0, 1395.0),\n",
              " (1, 12, 102.0, 1224.0),\n",
              " (2, 1, 18.0, 18.0),\n",
              " (3, 15, 41.0, 615.0),\n",
              " (4, 2, 122.0, 244.0),\n",
              " (5, 11, 14.0, 154.0),\n",
              " (6, 2, 71.0, 142.0),\n",
              " (7, 12, 48.0, 576.0),\n",
              " (8, 2, 14.0, 28.0),\n",
              " (9, 4, 144.0, 576.0)]"
            ]
          },
          "metadata": {},
          "execution_count": 14
        }
      ]
    },
    {
      "cell_type": "markdown",
      "source": [
        "# Exercício 9\n",
        "Uma empresa possui filiais espalhadas nos Estados da região Sudeste do Brasil. Em uma das tabelas de cadastro das filiais há uma coluna contendo a informação de qual é o Estado a que pertence: estados = ['SP', 'ES', 'MG', 'MG', 'SP', 'MG', 'ES', 'ES', 'ES', 'SP', 'SP', 'MG', 'ES', 'SP', 'RJ', 'MG', 'RJ', 'SP', 'MG', 'SP', 'ES', 'SP', 'MG'].\n",
        "\n",
        "A empresa sempre está abrindo novas filiais, de modo que a tabela está constantemente recebendo novos registros e o gestor gostaria de possuir a informação atualizada da quantidade de filiais em cada Estado.\n",
        "\n",
        "A partir da coluna com a informação dos Estados, crie um dicionário usando dict comprehension com a chave sendo o nome de um Estado e o valor sendo a contagem de vezes em que o Estado aparece na lista."
      ],
      "metadata": {
        "id": "v18peYPuU4px"
      }
    },
    {
      "cell_type": "code",
      "source": [
        "estados = ['SP', 'ES', 'MG', 'MG', 'SP', 'MG', 'ES', 'ES', 'ES', 'SP', 'SP', 'MG', 'ES', 'SP', 'RJ', 'MG', 'RJ', 'SP', 'MG', 'SP', 'ES', 'SP', 'MG']\n",
        "\n",
        "dicionario = {estado: estados.count(estado) for estado in set(estados)}\n",
        "\n",
        "dicionario"
      ],
      "metadata": {
        "colab": {
          "base_uri": "https://localhost:8080/"
        },
        "id": "Kq2g1NP5U6D4",
        "outputId": "78c8e843-7a10-4108-b282-f4f4d9cd5e31"
      },
      "execution_count": null,
      "outputs": [
        {
          "output_type": "execute_result",
          "data": {
            "text/plain": [
              "{'ES': 6, 'MG': 7, 'RJ': 2, 'SP': 8}"
            ]
          },
          "metadata": {},
          "execution_count": 41
        }
      ]
    },
    {
      "cell_type": "markdown",
      "source": [
        "# Exercício 10\n",
        "Nessa mesma tabela de cadastro de filiais, há uma coluna com as informações da quantidade de pessoas colaboradoras e o(a) gestor(a) gostaria de ter um agrupamento da soma dessas pessoas para cada estado. As informações contidas na tabela são:\n",
        "\n",
        "funcionarios = [('SP', 16), ('ES', 8), ('MG', 9), ('MG', 6), ('SP', 10), ('MG', 4), ('ES',9), ('ES', 7), ('ES', 12), ('SP', 7), ('SP', 11), ('MG',8), ('ES',8), ('SP',9), ('RJ', 13), ('MG', 5), ('RJ', 9), ('SP', 12), ('MG', 10), ('SP', 7), ('ES', 14), ('SP', 10), ('MG', 12)]\n",
        "\n",
        "\n",
        "A partir da lista de tuplas, crie um dicionário em que as chaves são os nomes dos Estados únicos e os valores são as listas com o número de colaboradores(as) referentes ao Estado. Crie também um dicionário em que as chaves são os nomes dos Estados e os valores são a soma de colaboradores(as) por Estado."
      ],
      "metadata": {
        "id": "NLd5tEPFcXfB"
      }
    },
    {
      "cell_type": "code",
      "source": [
        "funcionarios = [('SP', 16), ('ES', 8), ('MG', 9), ('MG', 6), ('SP', 10), ('MG', 4), ('ES',9), ('ES', 7), ('ES', 12), ('SP', 7), ('SP', 11), ('MG',8), ('ES',8), ('SP',9), ('RJ', 13), ('MG', 5), ('RJ', 9), ('SP', 12), ('MG', 10), ('SP', 7), ('ES', 14), ('SP', 10), ('MG', 12)]\n",
        "lista = set([funcionarios[i][0] for i in range(0, len(funcionarios))])\n",
        "\n",
        "soma_sp = sum(idade for estado, idade in funcionarios if estado == 'RJ')\n",
        "\n",
        "soma_sp"
      ],
      "metadata": {
        "colab": {
          "base_uri": "https://localhost:8080/"
        },
        "id": "NawxdE9LcgCi",
        "outputId": "1a45cb0a-4b24-42e2-f376-3acf1212c721"
      },
      "execution_count": null,
      "outputs": [
        {
          "output_type": "execute_result",
          "data": {
            "text/plain": [
              "22"
            ]
          },
          "metadata": {},
          "execution_count": 29
        }
      ]
    },
    {
      "cell_type": "code",
      "source": [
        "funcionarios = [('SP', 16), ('ES', 8), ('MG', 9), ('MG', 6), ('SP', 10), ('MG', 4), ('ES',9), ('ES', 7), ('ES', 12), ('SP', 7), ('SP', 11), ('MG',8), ('ES',8), ('SP',9), ('RJ', 13), ('MG', 5), ('RJ', 9), ('SP', 12), ('MG', 10), ('SP', 7), ('ES', 14), ('SP', 10), ('MG', 12)]\n",
        "\n",
        "dicionario = {estado: sum(valor for local, valor in funcionarios if local == estado) for estado in set([funcionarios[i][0] for i in range(0, len(funcionarios))])}\n",
        "\n",
        "\n",
        "dicionario"
      ],
      "metadata": {
        "colab": {
          "base_uri": "https://localhost:8080/"
        },
        "id": "athY_r-TeORh",
        "outputId": "a42d520e-bd07-4538-deff-f62fbf065024"
      },
      "execution_count": null,
      "outputs": [
        {
          "output_type": "execute_result",
          "data": {
            "text/plain": [
              "{'SP': 82, 'MG': 54, 'RJ': 22, 'ES': 58}"
            ]
          },
          "metadata": {},
          "execution_count": 26
        }
      ]
    }
  ]
}