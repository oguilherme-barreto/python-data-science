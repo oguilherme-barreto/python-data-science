{
  "nbformat": 4,
  "nbformat_minor": 0,
  "metadata": {
    "colab": {
      "provenance": [],
      "authorship_tag": "ABX9TyMYQ95XSNCyGJhNrlZa9LJf"
    },
    "kernelspec": {
      "name": "python3",
      "display_name": "Python 3"
    },
    "language_info": {
      "name": "python"
    }
  },
  "cells": [
    {
      "cell_type": "markdown",
      "source": [
        "# Exercício 1\n",
        "Escreva um código que lê a lista abaixo e faça:\n",
        "- A leitura do tamanho da lista\n",
        "- A leitura do maior e menor valor\n",
        "- A soma dos valores da lista"
      ],
      "metadata": {
        "id": "eoU11y_ujhUN"
      }
    },
    {
      "cell_type": "code",
      "execution_count": null,
      "metadata": {
        "colab": {
          "base_uri": "https://localhost:8080/"
        },
        "id": "DMBt7wQZh-AM",
        "outputId": "ef6806da-c33f-4bef-fa8a-188481e89018"
      },
      "outputs": [
        {
          "output_type": "stream",
          "name": "stdout",
          "text": [
            "A lista possui 17 números em que o maior número é 99 e o menor número é 11. A soma dos valores presentes nela é igual a 743\n"
          ]
        }
      ],
      "source": [
        "lista = [16, 14, 63, 65, 17, 99, 70, 11, 20, 48, 79, 32, 17, 89, 12, 25, 66]\n",
        "\n",
        "def tamanho(lista):\n",
        "  tamanho = len(lista)\n",
        "  return tamanho\n",
        "\n",
        "def soma(lista):\n",
        "  i=0\n",
        "  soma = 0\n",
        "  while(i < len(lista)):\n",
        "    soma += lista[i]\n",
        "    i += 1\n",
        "  return soma\n",
        "\n",
        "def maior(lista):\n",
        "  i=0\n",
        "  maior = lista[0]\n",
        "  while(i < len(lista)):\n",
        "    if(lista[i] > maior):\n",
        "      maior= lista[i]\n",
        "    i += 1\n",
        "  return maior\n",
        "\n",
        "def menor(lista):\n",
        "  i=0\n",
        "  menor = lista[0]\n",
        "  while(i < len(lista)):\n",
        "    if(lista[i] < menor):\n",
        "      menor= lista[i]\n",
        "    i += 1\n",
        "  return menor\n",
        "\n",
        "tamanho = tamanho(lista)\n",
        "soma = soma(lista)\n",
        "maior = maior(lista)\n",
        "menor = menor(lista)\n",
        "\n",
        "print(f\"A lista possui {tamanho} números em que o maior número é {maior} e o menor número é {menor}. A soma dos valores presentes nela é igual a {soma}\")"
      ]
    },
    {
      "cell_type": "markdown",
      "source": [
        "# Exercício 2\n",
        "Escreva uma função que gere a tabuada de um número inteiro de 1 a 10, de acordo com a escolha da pessoa usuária."
      ],
      "metadata": {
        "id": "1SvAGo0tm6Oc"
      }
    },
    {
      "cell_type": "code",
      "source": [
        "def tabuada(n):\n",
        "  i=0\n",
        "  while(i<=10):\n",
        "    print(f\"{n} X {i} = {n*i}\")\n",
        "    i += 1\n",
        "\n",
        "n = 8\n",
        "tabuada(n)"
      ],
      "metadata": {
        "id": "pfAf5lXcm8yJ"
      },
      "execution_count": null,
      "outputs": []
    },
    {
      "cell_type": "markdown",
      "source": [
        "# Exercício 3\n",
        "Crie a função que leia a lista abaixo e retorne uma nova lista com os múltiplos de 3:\n",
        "\n",
        "Utilize o return na função e salve a nova lista na variável mult_3."
      ],
      "metadata": {
        "id": "Mz6EuinqoXcz"
      }
    },
    {
      "cell_type": "code",
      "source": [
        "lista = [97, 80, 94, 88, 80, 1, 16, 53, 62, 32, 24, 99]\n",
        "\n",
        "def mult(n):\n",
        "  if(n % 3 == 0):\n",
        "    return n\n",
        "  else:\n",
        "    return -1\n",
        "\n",
        "mult_3 = []\n",
        "\n",
        "for i in range(0,len(lista)):\n",
        "  if(mult(lista[i]) != -1):\n",
        "    mult_3.append(mult(lista[i]))\n",
        "\n",
        "mult_3"
      ],
      "metadata": {
        "id": "TiXPhdsRoj9n"
      },
      "execution_count": null,
      "outputs": []
    },
    {
      "cell_type": "markdown",
      "source": [
        "# Exercício 4\n",
        "Crie uma lista dos quadrados dos números da seguinte lista [1, 2, 3, 4, 5, 6, 7, 8, 9, 10]. Lembre-se de utilizar as funções lambda e map() para calcular o quadrado de cada elemento da lista."
      ],
      "metadata": {
        "id": "DN7eM2zdzCbe"
      }
    },
    {
      "cell_type": "code",
      "source": [
        "lista = [1, 2, 3, 4, 5, 6, 7, 8, 9, 10]\n",
        "\n",
        "quadrado = list(map(lambda x: x*x, lista))\n",
        "\n",
        "quadrado"
      ],
      "metadata": {
        "colab": {
          "base_uri": "https://localhost:8080/"
        },
        "id": "xvxb81AlzBTP",
        "outputId": "d9b3a527-6b9e-45e2-a31b-229fbea00cdd"
      },
      "execution_count": null,
      "outputs": [
        {
          "output_type": "execute_result",
          "data": {
            "text/plain": [
              "[1, 4, 9, 16, 25, 36, 49, 64, 81, 100]"
            ]
          },
          "metadata": {},
          "execution_count": 19
        }
      ]
    },
    {
      "cell_type": "markdown",
      "source": [
        "# Exercício 5\n",
        "Você foi contratado(a) como cientista de dados de uma associação de skate. Para analisar as notas recebidas de skatistas em algumas competições ao longo do ano, você precisa criar um código que calcula a pontuação dos(as) atletas. Para isso, o seu código deve receber 5 notas digitadas pelas pessoas juradas.\n",
        "\n",
        "Para calcular a pontuação de um(a) skatista, você precisa eliminar a maior e a menor pontuação dentre as 5 notas e tirar a média das 3 notas que sobraram. Retorne a média para apresentar o texto:\n",
        "\n",
        "\"Nota da manobra: [media]\""
      ],
      "metadata": {
        "id": "8GIbFgybzfdO"
      }
    },
    {
      "cell_type": "code",
      "source": [
        "def maior(lista):\n",
        "  i=0\n",
        "  maior = lista[0]\n",
        "  while(i < len(lista)):\n",
        "    if(lista[i] > maior):\n",
        "      maior= lista[i]\n",
        "    i += 1\n",
        "  return maior\n",
        "\n",
        "def menor(lista):\n",
        "  i=0\n",
        "  menor = lista[0]\n",
        "  while(i < len(lista)):\n",
        "    if(lista[i] < menor):\n",
        "      menor= lista[i]\n",
        "    i += 1\n",
        "  return menor\n",
        "\n",
        "def media(lista):\n",
        "  n_menor = menor(lista)\n",
        "  n_maior = maior(lista)\n",
        "  soma = 0\n",
        "  for i in range(0, len(lista)):\n",
        "    if(lista[i] != n_menor and lista[i] != n_maior):\n",
        "      soma += lista[i]\n",
        "\n",
        "  media = soma / 3\n",
        "\n",
        "  return media\n",
        "\n",
        "\n",
        "notas = []\n",
        "for i in range(0, 5):\n",
        "  nota = float(input(f\"Digite o a {i+1}° nota: \"))\n",
        "  notas.append(nota)\n",
        "\n",
        "n_media = media(notas)\n",
        "\n",
        "n_media"
      ],
      "metadata": {
        "id": "KcCYCoqXz5fX"
      },
      "execution_count": null,
      "outputs": []
    },
    {
      "cell_type": "markdown",
      "source": [
        "# Exercício 6\n",
        "Para atender a uma demanda de uma instituição de ensino para a análise do desempenho de seus(suas) estudantes, você precisa criar uma função que receba uma lista de 4 notas e retorne:\n",
        "\n",
        "- maior nota\n",
        "- menor nota\n",
        "- média\n",
        "- situação (Aprovado(a) ou Reprovado(a))"
      ],
      "metadata": {
        "id": "KpNr2jOYDLA6"
      }
    },
    {
      "cell_type": "code",
      "source": [
        "notas_aluno = [8.5, 9.2, 3.3, 5.5]\n",
        "\n",
        "def maior(lista):\n",
        "  i=0\n",
        "  maior = lista[0]\n",
        "  while(i < len(lista)):\n",
        "    if(lista[i] > maior):\n",
        "      maior= lista[i]\n",
        "    i += 1\n",
        "  return maior\n",
        "\n",
        "def menor(lista):\n",
        "  i=0\n",
        "  menor = lista[0]\n",
        "  while(i < len(lista)):\n",
        "    if(lista[i] < menor):\n",
        "      menor= lista[i]\n",
        "    i += 1\n",
        "  return menor\n",
        "\n",
        "def media(lista):\n",
        "  soma = 0\n",
        "  for i in range(0, len(lista)):\n",
        "    soma += lista[i]\n",
        "\n",
        "  media = soma / len(lista)\n",
        "\n",
        "  return media\n",
        "\n",
        "media_aluno = media(notas_aluno)\n",
        "maior_nota = maior(notas_aluno)\n",
        "menor_nota = menor(notas_aluno)\n",
        "\n",
        "if(media_aluno > 6):\n",
        "  situacao = \"Aprovado!\"\n",
        "else:\n",
        "  situacao = \"Reprovado!\"\n",
        "\n",
        "print(f\"O(a) estudante obteve uma média de {media_aluno}, com a sua maior nota de {maior_nota} pontos e a menor nota de {menor_nota} pontos e foi {situacao}\")"
      ],
      "metadata": {
        "colab": {
          "base_uri": "https://localhost:8080/"
        },
        "id": "q_gfDOrtDhBf",
        "outputId": "27d764bc-d757-4d73-c63e-3806e4cac85d"
      },
      "execution_count": null,
      "outputs": [
        {
          "output_type": "stream",
          "name": "stdout",
          "text": [
            "O(a) estudante obteve uma média de 6.625, com a sua maior nota de 9.2 pontos e a menor nota de 3.3 pontos e foi Aprovado!\n"
          ]
        }
      ]
    },
    {
      "cell_type": "markdown",
      "source": [
        "# Exercício 7\n",
        "Você recebeu uma demanda para tratar 2 listas com os nomes e sobrenomes de cada estudante concatenando-as para apresentar seus nomes completos na forma Nome Sobrenome."
      ],
      "metadata": {
        "id": "3WNZeEvqHjpW"
      }
    },
    {
      "cell_type": "code",
      "source": [
        "nomes = [\"joão\", \"MaRia\", \"JOSÉ\"]\n",
        "sobrenomes = [\"SILVA\", \"souza\", \"Tavares\"]\n",
        "nome_completo = []\n",
        "\n",
        "for i in range(0, len(nomes)):\n",
        "  nomes[i] = nomes[i].title()\n",
        "  sobrenomes[i] = sobrenomes[i].title()\n",
        "  nome_completo.append(nomes[i].title() + \" \" + sobrenomes[i].title())\n",
        "\n",
        "nome_completo"
      ],
      "metadata": {
        "id": "m8PckONnHlPN"
      },
      "execution_count": null,
      "outputs": []
    },
    {
      "cell_type": "markdown",
      "source": [
        "# Exercício 8\n",
        "Como cientista de dados em um time de futebol, você precisa implementar novas formas de coleta de dados sobre o desempenho de jogadores e do time como um todo. Sua primeira ação é criar uma forma de calcular a pontuação do time no campeonato nacional a partir dos dados de gols marcados e sofridos em cada jogo.\n",
        "\n",
        "Escreva uma função chamada calcula_pontos que recebe como parâmetros duas listas de números inteiros, representando os gols marcados e sofridos pelo time em cada partida do campeonato. A função deve retornar a pontuação do time e o aproveitamento em percentual, levando em consideração que a vitória vale 3 pontos, o empate vale 1 ponto e a derrota 0 pontos."
      ],
      "metadata": {
        "id": "-5nVqf4SeQKm"
      }
    },
    {
      "cell_type": "code",
      "source": [
        "gols_marcados = [2, 1, 3, 1, 0]\n",
        "gols_sofridos = [1, 2, 2, 1, 3]\n",
        "\n",
        "def calcula_pontos(lista1, lista2):\n",
        "  resultado = map(lambda x, y: x - y, lista1, lista2)\n",
        "  resultados = list(resultado)\n",
        "  pontos = 0\n",
        "\n",
        "  for i in range(0, len(resultados)):\n",
        "\n",
        "    if resultados[i] > 0:\n",
        "      pontos += 3\n",
        "    elif resultados[i] == 0:\n",
        "      pontos += 1\n",
        "    else:\n",
        "      pontos += 0\n",
        "\n",
        "  return pontos\n",
        "\n",
        "\n",
        "pontos = calcula_pontos(gols_marcados, gols_sofridos)\n",
        "\n",
        "porcentagem = (pontos / (3*len(gols_marcados)))*100\n",
        "\n",
        "print(f'O time fez {pontos} pontos, com {porcentagem:.2f}% de aproveitamento!')"
      ],
      "metadata": {
        "id": "0UzuLgr8eS_6"
      },
      "execution_count": null,
      "outputs": []
    },
    {
      "cell_type": "markdown",
      "source": [
        "# Exercício 9\n",
        "Você recebeu o desafio de criar um código que calcula os gastos de uma viagem para um das quatro cidades partindo de Recife, sendo elas: Salvador, Fortaleza, Natal e Aracaju.\n",
        "\n",
        "O custo da diária do hotel é de 150 reais em todas elas e o consumo de gasolina na viagem de carro é de 14 km/l, sendo que o valor da gasolina é de 5 reais o litro. O gastos com passeios e alimentação a se fazer em cada uma delas por dia seria de [200, 400, 250, 300], respectivamente.\n",
        "\n",
        "Sabendo que as distâncias entre Recife e cada uma das cidades é de aproximadamente [850, 800, 300, 550] km, crie três funções nas quais: a 1ª função calcule os gastos com hotel (gasto_hotel), a 2ª calcule os gastos com a gasolina (gasto_gasolina) e a 3ª os gastos com passeio e alimentação (gasto_passeio).\n",
        "\n",
        "Para testar, simule uma viagem de 3 dias para Salvador partindo de Recife. Considere a viagem de ida e volta de carro."
      ],
      "metadata": {
        "id": "xHRg7Mp2CjdQ"
      }
    },
    {
      "cell_type": "code",
      "source": [
        "def gasto_hotel(diarias):\n",
        "  total = diarias * 150\n",
        "  return total\n",
        "\n",
        "def gasto_gasolina(distancia):\n",
        "  litro_gasolina = map(lambda x: x/14, distancia)\n",
        "  total_gasolina = map(lambda x: x*5, list(litro_gasolina))\n",
        "  return list(total_gasolina)\n",
        "\n",
        "def gasto_passeio(gastos, diarias):\n",
        "  total_gasto = map(lambda x: x*diarias, gastos)\n",
        "  return list(total_gasto)\n",
        "\n",
        "\n",
        "diarias = 3\n",
        "cidades = ['Salvador', 'Fortaleza', 'Natal', 'Aracaju']\n",
        "distancia = [850, 800, 300, 550]\n",
        "gastos = [200, 400, 250, 300]\n",
        "\n",
        "\n",
        "total_hotel = gasto_hotel(diarias)\n",
        "total_distancia = gasto_gasolina(distancia)\n",
        "total_passeio = gasto_passeio(gastos, diarias)\n",
        "\n",
        "gastos = total_hotel + (2*total_distancia[0]) + total_passeio[0]\n",
        "\n",
        "print(f\"Com base nos gastos definidos, uma viagem de {diarias} dias para {cidades[0]} saindo de Recife custaria R$ {gastos:.2f}\")"
      ],
      "metadata": {
        "id": "OL8RNaNSCm0W"
      },
      "execution_count": null,
      "outputs": []
    },
    {
      "cell_type": "markdown",
      "source": [
        "# Exercício 10\n",
        "Você iniciou um estágio em uma empresa que trabalha com processamento de linguagem natural (NLP). Sua líder requisitou que você criasse um trecho de código que recebe uma frase digitada pela pessoa usuária e filtre apenas as palavras com tamanho maior ou igual a 5, exibindo-as em uma lista. Essa demanda é voltada para a análise do padrão de comportamento de pessoas na escrita de palavras acima dessa quantidade de caracteres."
      ],
      "metadata": {
        "id": "maNPblQJuE6B"
      }
    },
    {
      "cell_type": "code",
      "source": [
        "string = \"Aprender Python aqui na Alura é muito bom\"\n",
        "palavras = list(filter(lambda x: len(x) >= 5, string.split()))\n",
        "palavras"
      ],
      "metadata": {
        "colab": {
          "base_uri": "https://localhost:8080/"
        },
        "id": "W3wpsFUkuRJi",
        "outputId": "4dba181c-f5b5-4c55-d994-8239cac68559"
      },
      "execution_count": null,
      "outputs": [
        {
          "output_type": "execute_result",
          "data": {
            "text/plain": [
              "['Aprender', 'Python', 'Alura', 'muito']"
            ]
          },
          "metadata": {},
          "execution_count": 17
        }
      ]
    }
  ]
}