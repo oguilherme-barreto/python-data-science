{
  "nbformat": 4,
  "nbformat_minor": 0,
  "metadata": {
    "colab": {
      "provenance": [],
      "authorship_tag": "ABX9TyMGniE6EMoA7KiF36DJvcBw"
    },
    "kernelspec": {
      "name": "python3",
      "display_name": "Python 3"
    },
    "language_info": {
      "name": "python"
    }
  },
  "cells": [
    {
      "cell_type": "markdown",
      "source": [
        "# Exercício 1\n",
        "Escreva um código para instalar a versão 3.7.1 da biblioteca matplotlib."
      ],
      "metadata": {
        "id": "jvgq-0fgLgh4"
      }
    },
    {
      "cell_type": "code",
      "execution_count": null,
      "metadata": {
        "id": "EEh5x4uvH4nZ"
      },
      "outputs": [],
      "source": [
        "!pip install matplotlib==3.7.1"
      ]
    },
    {
      "cell_type": "code",
      "source": [
        "import matplotlib\n",
        "matplotlib.__version__"
      ],
      "metadata": {
        "id": "4zXdEY8nInR8"
      },
      "execution_count": null,
      "outputs": []
    },
    {
      "cell_type": "markdown",
      "source": [
        "# Exercício 2\n",
        "Escreva um código para importar a biblioteca numpy com o as np."
      ],
      "metadata": {
        "id": "tfkSPTbFLm0i"
      }
    },
    {
      "cell_type": "code",
      "source": [
        "import numpy as np"
      ],
      "metadata": {
        "id": "tLVK-2S2Lwb3"
      },
      "execution_count": null,
      "outputs": []
    },
    {
      "cell_type": "markdown",
      "source": [
        "# Exercício 3\n",
        "Crie um programa que leia a seguinte lista de números e escolha um número desta aleatoriamente."
      ],
      "metadata": {
        "id": "5GzjRo6CMKPT"
      }
    },
    {
      "cell_type": "code",
      "source": [
        "from random import choice"
      ],
      "metadata": {
        "id": "qbvx4861Jj-m"
      },
      "execution_count": null,
      "outputs": []
    },
    {
      "cell_type": "code",
      "source": [
        "lista = [8, 12, 54, 23, 43, 1, 90, 87, 105, 77]\n",
        "\n",
        "num = choice(lista)\n",
        "\n",
        "num"
      ],
      "metadata": {
        "id": "4CCz2rRUKKxZ"
      },
      "execution_count": null,
      "outputs": []
    },
    {
      "cell_type": "markdown",
      "source": [
        "# Exercício  4\n",
        "Crie um programa que sorteia, aleatoriamente, um número inteiro positivo menor que 100."
      ],
      "metadata": {
        "id": "VYXjnqhYMV-r"
      }
    },
    {
      "cell_type": "code",
      "source": [
        "from random import randrange"
      ],
      "metadata": {
        "id": "Evxjz693L_xM"
      },
      "execution_count": 1,
      "outputs": []
    },
    {
      "cell_type": "code",
      "source": [
        "sorteio = randrange(100)\n",
        "\n",
        "sorteio"
      ],
      "metadata": {
        "id": "kQ0341beLPau"
      },
      "execution_count": null,
      "outputs": []
    },
    {
      "cell_type": "markdown",
      "source": [
        "# Exercício 5\n",
        "Crie um programa que solicite à pessoa usuária digitar dois números inteiros e calcular a potência do 1º número elevado ao 2º."
      ],
      "metadata": {
        "id": "5d_gf5GnUtwO"
      }
    },
    {
      "cell_type": "code",
      "source": [
        "from math import pow"
      ],
      "metadata": {
        "id": "CiQmQZzFUwqk"
      },
      "execution_count": 2,
      "outputs": []
    },
    {
      "cell_type": "code",
      "source": [
        "x = int(input(\"Digite o 1° número: \"))\n",
        "y = int(input(\"Digite o 2° número: \"))\n",
        "\n",
        "resultado = int(pow(x, y))\n",
        "\n",
        "resultado"
      ],
      "metadata": {
        "id": "gcfvTJqcVEv0"
      },
      "execution_count": null,
      "outputs": []
    },
    {
      "cell_type": "markdown",
      "source": [
        "# Exercício 6\n",
        "Um programa deve ser escrito para sortear uma pessoa seguidora de uma rede social para ganhar um prêmio. A lista de participantes é numerada e devemos escolher aleatoriamente um número de acordo com a quantidade de participantes. Peça à pessoa usuária para fornecer o número de participantes do sorteio e devolva para ela o número sorteado."
      ],
      "metadata": {
        "id": "QrvjEIk-Xv6I"
      }
    },
    {
      "cell_type": "code",
      "source": [
        "n = int(input(\"Digite o número de participantes: \"))\n",
        "\n",
        "sorteio = randrange(n)\n",
        "\n",
        "sorteio"
      ],
      "metadata": {
        "id": "8zTXdIGYXxsb"
      },
      "execution_count": null,
      "outputs": []
    },
    {
      "cell_type": "markdown",
      "source": [
        "# Exercício 7\n",
        "Você recebeu uma demanda para gerar números de token para acessar o aplicativo de uma empresa. O token precisa ser par e variar de 1000 até 9998. Escreva um código que solicita à pessoa usuária o seu nome e exibe uma mensagem junto a esse token gerado aleatoriamente.\n",
        "\n",
        "\"Olá, [nome], o seu token de acesso é [token]! Seja bem-vindo(a)!\""
      ],
      "metadata": {
        "id": "OxDEhJEcYqVJ"
      }
    },
    {
      "cell_type": "code",
      "source": [
        "nome = input(\"Digite seu nome: \")\n",
        "\n",
        "token = randrange(1000, 9998, 2)\n",
        "\n",
        "print(f\"Olá, {nome}, o seu token de acesso é {token}! Seja bem-vindo(a)!\")"
      ],
      "metadata": {
        "id": "gO4rX2usYtKQ"
      },
      "execution_count": null,
      "outputs": []
    },
    {
      "cell_type": "markdown",
      "source": [
        "# Exercício 8\n",
        "Para diversificar e atrair novos(as) clientes, uma lanchonete criou um item misterioso em seu cardápio chamado \"salada de frutas surpresa\". Neste item, são escolhidas aleatoriamente 3 frutas de uma lista de 12 para compor a salada de frutas da pessoa cliente."
      ],
      "metadata": {
        "id": "Yn2pQ-WLZ9eH"
      }
    },
    {
      "cell_type": "code",
      "source": [
        "frutas = [\"maçã\", \"banana\", \"uva\", \"pêra\", \"manga\", \"coco\", \"melancia\", \"mamão\", \"laranja\", \"abacaxi\", \"kiwi\", \"ameixa\"]\n",
        "n = 3\n",
        "salada = set()\n",
        "\n",
        "while(len(salada) < 3):\n",
        "  salada.add(choice(frutas))\n",
        "\n",
        "salada"
      ],
      "metadata": {
        "colab": {
          "base_uri": "https://localhost:8080/"
        },
        "id": "c2l6e1CsaDy_",
        "outputId": "793ca325-8a39-45f2-cf5e-0a720128d150"
      },
      "execution_count": null,
      "outputs": [
        {
          "output_type": "execute_result",
          "data": {
            "text/plain": [
              "{'banana', 'coco', 'maçã'}"
            ]
          },
          "metadata": {},
          "execution_count": 101
        }
      ]
    },
    {
      "cell_type": "markdown",
      "source": [
        "# Exercício 9\n",
        "Você recebeu um desafio de calcular a raiz quadrada de uma lista de números, identificando quais resultaram em um número inteiro."
      ],
      "metadata": {
        "id": "WTNgLduSeca_"
      }
    },
    {
      "cell_type": "code",
      "source": [
        "import math\n",
        "\n",
        "numeros = [2, 8, 15, 23, 91, 112, 256]\n",
        "raizes = list()\n",
        "\n",
        "for i in numeros:\n",
        "  resultado = math.sqrt(i)\n",
        "  if(resultado - int(resultado) == 0):\n",
        "    raizes.append(resultado)\n",
        "\n",
        "raizes"
      ],
      "metadata": {
        "id": "yJodud4Dembb"
      },
      "execution_count": null,
      "outputs": []
    },
    {
      "cell_type": "markdown",
      "source": [
        "# Exercício 10\n",
        "Faça um programa para uma loja que vende grama para jardins. Essa loja trabalha com jardins circulares e o preço do metro quadrado da grama é de R$ 25,00. Peça à pessoa usuária o raio da área circular e devolva o valor em reais do quanto precisará pagar."
      ],
      "metadata": {
        "id": "wTdq6eEHjPim"
      }
    },
    {
      "cell_type": "code",
      "source": [
        "raio = float(input(\"Digite o raio da área circular do jardim: \"))\n",
        "\n",
        "area = 3.1415*(raio**2)\n",
        "\n",
        "valor = 25 * area\n",
        "\n",
        "print(f\"O valor total para de {area:.2f}m² é: R${valor:.2f}\")"
      ],
      "metadata": {
        "id": "PXew79HAjSY7"
      },
      "execution_count": null,
      "outputs": []
    }
  ]
}